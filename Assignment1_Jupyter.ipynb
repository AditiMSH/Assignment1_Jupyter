{
 "cells": [
  {
   "cell_type": "code",
   "execution_count": 1,
   "id": "72126f37",
   "metadata": {},
   "outputs": [],
   "source": [
    "# Assignment1\n",
    "# ETG-Skill-India Python for AI/ML Internship\n",
    "# Name: Aditi Hegde\n",
    "# Email: aditimsh@gmail.com\n",
    "# Batch-2\n",
    "# Program for inventory management"
   ]
  },
  {
   "cell_type": "code",
   "execution_count": 2,
   "id": "aa0a4083",
   "metadata": {},
   "outputs": [],
   "source": [
    "import json\n",
    "import os\n",
    "import time\n",
    "clear = lambda:os.system('cls')\n"
   ]
  },
  {
   "cell_type": "code",
   "execution_count": 3,
   "id": "c2153aec",
   "metadata": {},
   "outputs": [
    {
     "name": "stdout",
     "output_type": "stream",
     "text": [
      "{'1001': {'name': 'Chocolava Cake', 'pr': 1000, 'qn': 977}, '1002': {'name': 'HoneyMilk Cake', 'pr': 800, 'qn': 1250}, '1003': {'name': 'MangoDrink', 'pr': 40, 'qn': 100}, '1004': {'name': 'SugarCandy', 'pr': 5, 'qn': 10000}, '1005': {'name': 'Pen', 'pr': 20, 'qn': 10000}, '1006': {'name': 'IPhone', 'pr': 100000, 'qn': 1000}, '1007': {'name': 'Ipad', 'pr': 50000, 'qn': 3000}, '1008': {'name': 'Sunflower', 'pr': 200, 'qn': 50000}, '1009': {'name': 'Keyboard', 'pr': 1999, 'qn': 100}, '1010': {'name': 'Paper', 'pr': 20, 'qn': 100000000}, '1011': {'name': 'Notebook', 'pr': 60, 'qn': 99000}, '1012': {'name': 'Eraser', 'pr': 20, 'qn': 17800}, '1013': {'name': 'Paint', 'pr': 300, 'qn': 7600}, '1014': {'name': 'Shoes', 'pr': 2000, 'qn': 6000}, '1015': {'name': 'Candle', 'pr': 200, 'qn': 109080}, '1016': {'name': 'Dress', 'pr': 5000, 'qn': 100}, '1017': {'name': 'Bag', 'pr': 15000, 'qn': 8900}, '1018': {'name': 'Pot', 'pr': 990, 'qn': 56700}, '1019': {'name': 'Crayons', 'pr': 20, 'qn': 100}, '1020': {'name': 'CoffeCup', 'pr': 200, 'qn': 19800}, '1021': {'name': 'TeaBags', 'pr': 290, 'qn': 1040}, '1022': {'name': 'Peach', 'pr': 270, 'qn': 10650}, '1023': {'name': 'Kitten', 'pr': 2780, 'qn': 900}, '1024': {'name': 'Earphones', 'pr': 500, 'qn': 900}, '1025': {'name': 'Lotus', 'pr': 87, 'qn': 10900}, '1026': {'name': 'Orange', 'pr': 277, 'qn': 100}, '1027': {'name': 'Shirt', 'pr': 499, 'qn': 1009}, '1028': {'name': 'Trousers', 'pr': 275, 'qn': 198000}, '1029': {'name': 'Caps', 'pr': 120, 'qn': 56100}, '1030': {'name': 'Hat', 'pr': 820, 'qn': 77100}, '1031': {'name': 'Milk', 'pr': 40, 'qn': 500}, '3000': {'name': 'ragi', 'pr': 77, 'qn': 900}, ' 1034': {'name': ' Cardboard', 'pr': 5, 'qn': 6000}, '2000': {'name': 'Almonds', 'pr': 500, 'qn': 2000}, '2001': {'name': 'pista', 'pr': 700, 'qn': 3800}, '1039': {'name': 'Bucket', 'pr': 200, 'qn': 25}, '1040': {'name': 'Plate', 'pr': 200, 'qn': 13450}}\n"
     ]
    }
   ],
   "source": [
    "# Code to read and load json file\n",
    "fd = open(\"productlist.json\",'r')\n",
    "r = fd.read()\n",
    "fd.close()\n",
    "\n",
    "record = json.loads(r)\n",
    "print(record)"
   ]
  },
  {
   "cell_type": "code",
   "execution_count": 4,
   "id": "17e0348d",
   "metadata": {},
   "outputs": [],
   "source": [
    "# Defining the function addItemToInventory which will add items to the inventory\n",
    "def addItemToInventory():\n",
    "    clear()\n",
    "    print(\"ADD ITEMS TO THE INVENTORY\")\n",
    "    print(\"----------------------\")\n",
    "    print()"
   ]
  },
  {
   "cell_type": "code",
   "execution_count": 8,
   "id": "0f936e8d",
   "metadata": {},
   "outputs": [
    {
     "name": "stdout",
     "output_type": "stream",
     "text": [
      "enter number of items you want to add to the inventory2\n",
      "Enter product id:2099\n",
      "Enter name:Cookie\n",
      "Enter price:25\n",
      "Enter quantity:5000\n",
      "The details of item added is:\n",
      "{'name': 'Cookie', 'pr': 25, 'qn': 5000}\n",
      "The inventory loading transaction time is:\n",
      "Fri Sep 17 11:08:13 2021\n",
      "Enter product id:3067\n",
      "Enter name:SpiceMix\n",
      "Enter price:55\n",
      "Enter quantity:809097\n",
      "The details of item added is:\n",
      "{'name': 'SpiceMix', 'pr': 55, 'qn': 809097}\n",
      "The inventory loading transaction time is:\n",
      "Fri Sep 17 11:08:52 2021\n"
     ]
    }
   ],
   "source": [
    "# Asking user to add number of items they want to add to inventory\n",
    "ui_num = int(input(\"enter number of items you want to add to the inventory\"))\n",
    "# Asking user for product name, product Id, Price and quantity of the item\n",
    "for i in range(ui_num):\n",
    "       prod_id = str(input(\"Enter product id:\"))\n",
    "       name = str(input(\"Enter name:\"))\n",
    "       pr = int(input(\"Enter price:\"))\n",
    "       qn = int(input(\"Enter quantity:\"))\n",
    "       print(\"The details of item added is:\")\n",
    "       record[prod_id] = {'name': name, 'pr': pr, 'qn': qn}\n",
    "       print(record[prod_id])\n",
    "       t = time.ctime()\n",
    "       print(\"The inventory loading transaction time is:\")\n",
    "       print(t)\n",
    "\n",
    "js = json.dumps(record)\n",
    "\n",
    "cs = open(\"productlist.json\", 'w')\n",
    "cs.write(js)\n",
    "cs.close()\n",
    "\n",
    "js = json.dumps(record)"
   ]
  },
  {
   "cell_type": "code",
   "execution_count": 9,
   "id": "fa5b4c34",
   "metadata": {},
   "outputs": [
    {
     "name": "stdout",
     "output_type": "stream",
     "text": [
      "The updated record after adding the items:\n",
      "{'1001': {'name': 'Chocolava Cake', 'pr': 1000, 'qn': 977}, '1002': {'name': 'HoneyMilk Cake', 'pr': 800, 'qn': 1250}, '1003': {'name': 'MangoDrink', 'pr': 40, 'qn': 100}, '1004': {'name': 'SugarCandy', 'pr': 5, 'qn': 10000}, '1005': {'name': 'Pen', 'pr': 20, 'qn': 10000}, '1006': {'name': 'IPhone', 'pr': 100000, 'qn': 1000}, '1007': {'name': 'Ipad', 'pr': 50000, 'qn': 3000}, '1008': {'name': 'Sunflower', 'pr': 200, 'qn': 50000}, '1009': {'name': 'Keyboard', 'pr': 1999, 'qn': 100}, '1010': {'name': 'Paper', 'pr': 20, 'qn': 100000000}, '1011': {'name': 'Notebook', 'pr': 60, 'qn': 99000}, '1012': {'name': 'Eraser', 'pr': 20, 'qn': 17800}, '1013': {'name': 'Paint', 'pr': 300, 'qn': 7600}, '1014': {'name': 'Shoes', 'pr': 2000, 'qn': 6000}, '1015': {'name': 'Candle', 'pr': 200, 'qn': 109080}, '1016': {'name': 'Dress', 'pr': 5000, 'qn': 100}, '1017': {'name': 'Bag', 'pr': 15000, 'qn': 8900}, '1018': {'name': 'Pot', 'pr': 990, 'qn': 56700}, '1019': {'name': 'Crayons', 'pr': 20, 'qn': 100}, '1020': {'name': 'CoffeCup', 'pr': 200, 'qn': 19800}, '1021': {'name': 'TeaBags', 'pr': 290, 'qn': 1040}, '1022': {'name': 'Peach', 'pr': 270, 'qn': 10650}, '1023': {'name': 'Kitten', 'pr': 2780, 'qn': 900}, '1024': {'name': 'Earphones', 'pr': 500, 'qn': 900}, '1025': {'name': 'Lotus', 'pr': 87, 'qn': 10900}, '1026': {'name': 'Orange', 'pr': 277, 'qn': 100}, '1027': {'name': 'Shirt', 'pr': 499, 'qn': 1009}, '1028': {'name': 'Trousers', 'pr': 275, 'qn': 198000}, '1029': {'name': 'Caps', 'pr': 120, 'qn': 56100}, '1030': {'name': 'Hat', 'pr': 820, 'qn': 77100}, '1031': {'name': 'Milk', 'pr': 40, 'qn': 500}, '3000': {'name': 'ragi', 'pr': 77, 'qn': 900}, ' 1034': {'name': ' Cardboard', 'pr': 5, 'qn': 6000}, '2000': {'name': 'Almonds', 'pr': 500, 'qn': 2000}, '2001': {'name': 'pista', 'pr': 700, 'qn': 3800}, '1039': {'name': 'Bucket', 'pr': 200, 'qn': 25}, '1040': {'name': 'Plate', 'pr': 200, 'qn': 13450}, '2099': {'name': 'Cookie', 'pr': 25, 'qn': 5000}, '3067': {'name': 'SpiceMix', 'pr': 55, 'qn': 809097}}\n"
     ]
    }
   ],
   "source": [
    "    # Updating record after Transaction\n",
    "    with open(\"productlist.json\", 'w') as fd:\n",
    "      fd.write(js)\n",
    "      fd.close()\n",
    "    print(\"The updated record after adding the items:\")\n",
    "    print(record)\n",
    "\n"
   ]
  },
  {
   "cell_type": "code",
   "execution_count": 10,
   "id": "c3e614b8",
   "metadata": {},
   "outputs": [],
   "source": [
    "# Defining the function Purchase items which will purchase items from the inventory\n",
    "def purchaseitems():\n",
    "    clear()\n",
    "    print(\"PURCHASE ITEMS FROM THE INVENTORY\")\n",
    "    print(\"----------------------\")\n",
    "    print()\n",
    "    i = 0\n",
    "    sum = 0\n",
    "    # Asking user to add number of items they want to add to inventory\n",
    "    ui_num = int(input(\"enter number of items you want to purchase\"))\n",
    "    # Asking user for product name, product Id, Price and quantity of the items\n",
    "    for i in range(ui_num):\n",
    "        ui_prod = str(input(\"Enter the product_Id: \"))\n",
    "        ui_quant = int(input(\"Enter the quantity: \"))\n",
    "\n",
    "        print(\"Product: \", record[ui_prod]['name'])\n",
    "        print(\"Price: \", record[ui_prod]['pr'])\n",
    "        sum = sum+record[ui_prod]['pr'] * ui_quant;\n",
    "        print(\"Billing Amount of item: \", record[ui_prod]['pr'] * ui_quant)\n",
    "        record[ui_prod]['qn'] = record[ui_prod]['qn'] - ui_quant\n",
    "        total_bill=sum\n",
    "        print(\"the total bill is:\")\n",
    "        print(total_bill)\n",
    "        t = time.ctime()\n",
    "        print(\"The inventory purchasing transaction time is:\")\n",
    "        print(t)\n"
   ]
  },
  {
   "cell_type": "code",
   "execution_count": 12,
   "id": "fc7b61c9",
   "metadata": {},
   "outputs": [
    {
     "name": "stdout",
     "output_type": "stream",
     "text": [
      "The updated record after purchasing the items:\n",
      "{'1001': {'name': 'Chocolava Cake', 'pr': 1000, 'qn': 977}, '1002': {'name': 'HoneyMilk Cake', 'pr': 800, 'qn': 1250}, '1003': {'name': 'MangoDrink', 'pr': 40, 'qn': 100}, '1004': {'name': 'SugarCandy', 'pr': 5, 'qn': 10000}, '1005': {'name': 'Pen', 'pr': 20, 'qn': 10000}, '1006': {'name': 'IPhone', 'pr': 100000, 'qn': 1000}, '1007': {'name': 'Ipad', 'pr': 50000, 'qn': 3000}, '1008': {'name': 'Sunflower', 'pr': 200, 'qn': 50000}, '1009': {'name': 'Keyboard', 'pr': 1999, 'qn': 100}, '1010': {'name': 'Paper', 'pr': 20, 'qn': 100000000}, '1011': {'name': 'Notebook', 'pr': 60, 'qn': 99000}, '1012': {'name': 'Eraser', 'pr': 20, 'qn': 17800}, '1013': {'name': 'Paint', 'pr': 300, 'qn': 7600}, '1014': {'name': 'Shoes', 'pr': 2000, 'qn': 6000}, '1015': {'name': 'Candle', 'pr': 200, 'qn': 109080}, '1016': {'name': 'Dress', 'pr': 5000, 'qn': 100}, '1017': {'name': 'Bag', 'pr': 15000, 'qn': 8900}, '1018': {'name': 'Pot', 'pr': 990, 'qn': 56700}, '1019': {'name': 'Crayons', 'pr': 20, 'qn': 100}, '1020': {'name': 'CoffeCup', 'pr': 200, 'qn': 19800}, '1021': {'name': 'TeaBags', 'pr': 290, 'qn': 1040}, '1022': {'name': 'Peach', 'pr': 270, 'qn': 10650}, '1023': {'name': 'Kitten', 'pr': 2780, 'qn': 900}, '1024': {'name': 'Earphones', 'pr': 500, 'qn': 900}, '1025': {'name': 'Lotus', 'pr': 87, 'qn': 10900}, '1026': {'name': 'Orange', 'pr': 277, 'qn': 100}, '1027': {'name': 'Shirt', 'pr': 499, 'qn': 1009}, '1028': {'name': 'Trousers', 'pr': 275, 'qn': 198000}, '1029': {'name': 'Caps', 'pr': 120, 'qn': 56100}, '1030': {'name': 'Hat', 'pr': 820, 'qn': 77100}, '1031': {'name': 'Milk', 'pr': 40, 'qn': 500}, '3000': {'name': 'ragi', 'pr': 77, 'qn': 900}, ' 1034': {'name': ' Cardboard', 'pr': 5, 'qn': 6000}, '2000': {'name': 'Almonds', 'pr': 500, 'qn': 2000}, '2001': {'name': 'pista', 'pr': 700, 'qn': 3800}, '1039': {'name': 'Bucket', 'pr': 200, 'qn': 25}, '1040': {'name': 'Plate', 'pr': 200, 'qn': 13450}, '2099': {'name': 'Cookie', 'pr': 25, 'qn': 5000}, '3067': {'name': 'SpiceMix', 'pr': 55, 'qn': 809097}}\n"
     ]
    }
   ],
   "source": [
    "js = json.dumps(record)\n",
    "\n",
    "cs = open(\"productlist.json\", 'w')\n",
    "cs.write(js)\n",
    "cs.close()\n",
    "\n",
    "js = json.dumps(record)\n",
    "# Updating record after Transaction\n",
    "with open(\"productlist.json\", 'w') as fd:\n",
    "      fd.write(js)\n",
    "      fd.close()\n",
    "print(\"The updated record after purchasing the items:\")\n",
    "print(record)\n"
   ]
  },
  {
   "cell_type": "code",
   "execution_count": 13,
   "id": "760b192c",
   "metadata": {},
   "outputs": [
    {
     "name": "stdout",
     "output_type": "stream",
     "text": [
      "INVENTORY MANAGEMENT SYSTEM\n",
      "--------------------\n",
      "\n",
      "Available Options:\n",
      "\n",
      " Choose 1 - To Add Items To Inventory\n",
      " Choose 2 - To Purchase From Inventory\n",
      "\n"
     ]
    }
   ],
   "source": [
    "print(\"INVENTORY MANAGEMENT SYSTEM\")\n",
    "print(\"--------------------\")\n",
    "print()\n",
    "print(\"Available Options:\")\n",
    "print()\n",
    "print(\" Choose 1 - To Add Items To Inventory\")\n",
    "print(\" Choose 2 - To Purchase From Inventory\")\n",
    "print()"
   ]
  },
  {
   "cell_type": "code",
   "execution_count": 14,
   "id": "d69818f1",
   "metadata": {},
   "outputs": [
    {
     "name": "stdout",
     "output_type": "stream",
     "text": [
      "Choose An Option: 2\n",
      "purchase items\n",
      "PURCHASE ITEMS FROM THE INVENTORY\n",
      "----------------------\n",
      "\n",
      "enter number of items you want to purchase1\n",
      "Enter the product_Id: 3067\n",
      "Enter the quantity: 97\n",
      "Product:  SpiceMix\n",
      "Price:  55\n",
      "Billing Amount of item:  5335\n",
      "the total bill is:\n",
      "5335\n",
      "The inventory purchasing transaction time is:\n",
      "Fri Sep 17 11:12:34 2021\n"
     ]
    }
   ],
   "source": [
    "# Asking users to chose their transaction type\n",
    "# That is do they want to add items to inventory\n",
    "# Or purchase items from inventory\n",
    "while True:\n",
    "        userChoice = input(\"Choose An Option: \")\n",
    "        if userChoice == '1':\n",
    "            print(\"add items\")\n",
    "            addItemToInventory()\n",
    "            break\n",
    "        elif userChoice == '2':\n",
    "            print(\"purchase items\")\n",
    "            purchaseitems()\n",
    "            break\n",
    "        else:\n",
    "            print(\"please enter valid input\")\n",
    "            break\n",
    "\n"
   ]
  },
  {
   "cell_type": "code",
   "execution_count": null,
   "id": "bc0a9a2e",
   "metadata": {},
   "outputs": [],
   "source": []
  }
 ],
 "metadata": {
  "kernelspec": {
   "display_name": "Python 3",
   "language": "python",
   "name": "python3"
  },
  "language_info": {
   "codemirror_mode": {
    "name": "ipython",
    "version": 3
   },
   "file_extension": ".py",
   "mimetype": "text/x-python",
   "name": "python",
   "nbconvert_exporter": "python",
   "pygments_lexer": "ipython3",
   "version": "3.8.8"
  }
 },
 "nbformat": 4,
 "nbformat_minor": 5
}
